{
 "cells": [
  {
   "cell_type": "markdown",
   "metadata": {},
   "source": [
    "# Generator Torque Control of a Wind Turbine using RL\n",
    "\n",
    "This simulation addresses the issue brought up in Kathryn Johnson's thesis\n",
    "\n",
    "\"Adaptive Torque Control of Variable Speed Wind Turbines\"\n",
    "\n",
    "Her thesis highlights how much energy loss is incurred due to inaccurate models and uncertain parameters.\n",
    "\n",
    "One of the uncertainties in her model is the air density, $\\rho$. \n",
    "\n",
    "The aim of this simulation is to use SARSA to learn the control policy despite variations in $\\rho$\n"
   ]
  },
  {
   "cell_type": "code",
   "execution_count": 7,
   "metadata": {},
   "outputs": [],
   "source": [
    "import gym\n",
    "import numpy as np\n",
    "from scipy.integrate import ode\n",
    "import numpy.random as rnd\n",
    "import torch as pt\n",
    "from importlib import reload\n",
    "import matplotlib.pyplot as plt\n",
    "import environment\n",
    "import ODETurb"
   ]
  },
  {
   "cell_type": "markdown",
   "metadata": {},
   "source": [
    "## Define classes for the neural network and for updating our learning agent"
   ]
  },
  {
   "cell_type": "code",
   "execution_count": 3,
   "metadata": {},
   "outputs": [],
   "source": [
    "class nnQ(pt.nn.Module):\n",
    "    \"\"\"\n",
    "    Here is a basic neural network for representing a policy \n",
    "    \"\"\"\n",
    "    \n",
    "    def __init__(self,stateDim,numActions,numHiddenUnits,numLayers):\n",
    "        super().__init__()\n",
    "        \n",
    "        \n",
    "        InputLayer = [pt.nn.Linear(stateDim+numActions,numHiddenUnits),\n",
    "                      pt.nn.Sigmoid()]\n",
    "        \n",
    "        HiddenLayers = []\n",
    "        \n",
    "        for _ in range(numLayers-1):\n",
    "            HiddenLayers.append(pt.nn.Linear(numHiddenUnits,numHiddenUnits))\n",
    "            HiddenLayers.append(pt.nn.ReLU())\n",
    "            \n",
    "        OutputLayer = [pt.nn.Linear(numHiddenUnits,1)]\n",
    "        \n",
    "        AllLayers = InputLayer + HiddenLayers + OutputLayer\n",
    "        self.net = pt.nn.Sequential(*AllLayers)\n",
    "        \n",
    "        self.numActions = numActions\n",
    "        \n",
    "    def forward(self,x,a):\n",
    "        x = pt.tensor(x,dtype=pt.float32) # feature\n",
    "        a = pt.tensor(a, dtype=pt.int64)  # parametesw\n",
    "        b = pt.nn.functional.one_hot(a,self.numActions)\n",
    "        c = b.float().detach()\n",
    "        y = pt.cat([x,c])\n",
    "        \n",
    "        return self.net(y)\n",
    "        \n",
    "    \n",
    "class sarsaAgent:\n",
    "    def __init__(self,stateDim ,numActions,numHiddenUnits,numLayers,\n",
    "                epsilon=0.1,gamma=.9,alpha=.1):\n",
    "        # These are the parameters\n",
    "        self.Q = nnQ(stateDim,numActions,numHiddenUnits,numLayers)\n",
    "        self.gamma = gamma\n",
    "        self.epsilon = epsilon\n",
    "        self.alpha = alpha\n",
    "        self.numActions = numActions\n",
    "        self.s_last = None\n",
    "       \n",
    "    def action(self,x):\n",
    "        # This is an epsilon greedy selection (can do max also)\n",
    "        # Whichever has the highest Q, perform that action\n",
    "        if rnd.rand() < self.epsilon:\n",
    "            a = rnd.randint(numActions)\n",
    "        else:\n",
    "            qBest = -np.inf\n",
    "            a = rnd.randint(numActions)\n",
    "            for aTest in range(self.numActions):\n",
    "                qTest = self.Q(x,aTest).detach().numpy()[0]\n",
    "                if qTest > qBest:\n",
    "                    qBest = qTest\n",
    "                    a = aTest\n",
    "        return a\n",
    "    \n",
    "    def update(self,s,a,r,s_next,done):\n",
    "        \n",
    "        # Compute the TD error, if there is enough data\n",
    "        update = True\n",
    "        if done:\n",
    "            Q_cur = self.Q(s,a).detach().numpy()[0]\n",
    "            delta = r - Q_cur\n",
    "            self.s_last = None\n",
    "            Q_diff = self.Q(s,a)\n",
    "        elif self.s_last is not None:\n",
    "            Q_next = self.Q(s,a).detach().numpy()[0]\n",
    "            Q_cur = self.Q(self.s_last,self.a_last).detach().numpy()[0]\n",
    "            delta = self.r_last + self.gamma * Q_next - Q_cur\n",
    "            Q_diff = self.Q(self.s_last,self.a_last)\n",
    "        else:\n",
    "            update = False\n",
    "            \n",
    "        # Update the parameter via the semi-gradient method\n",
    "        if update:\n",
    "            self.Q.zero_grad()\n",
    "            Q_diff.backward()\n",
    "            for p in self.Q.parameters():\n",
    "                p.data.add_(self.alpha*delta,p.grad.data)\n",
    "            \n",
    "            \n",
    "        \n",
    "        if not done:\n",
    "            self.s_last = np.copy(s)\n",
    "            self.a_last = np.copy(a)\n",
    "            self.r_last = np.copy(r)\n",
    "\n"
   ]
  },
  {
   "cell_type": "markdown",
   "metadata": {},
   "source": [
    "## SARSA with NN\n",
    "\n",
    "The below algorithm is the actual SARSA algorithm. sarsaAgent (defined above) spits out the action required such that power is maximized and such that states are in a constrained set. \n",
    "\n",
    "In RL longo,\n",
    "\n",
    "1. action: Generator Torque\n",
    "\n",
    "2. rewards: Electrical power output of turbine\n",
    "\n",
    "3. done: if too fast\n",
    "\n",
    "4. next state: generated using the ODEs in ODEturb.py"
   ]
  },
  {
   "cell_type": "code",
   "execution_count": null,
   "metadata": {},
   "outputs": [],
   "source": [
    "numActions = 10\n",
    "Actions = np.linspace(0,1,numActions)\n",
    "\n",
    "# This is our learning agent\n",
    "gamma = .95\n",
    "agent = sarsaAgent(4,numActions,10,1,epsilon=5e-2,gamma=gamma,alpha=1e-2)\n",
    "maxSteps = 1e5\n",
    "\n",
    "R = []\n",
    "UpTime = []\n",
    "\n",
    "step = 0\n",
    "ep = 0\n",
    "while step < maxSteps:\n",
    "    ep += 1\n",
    "    x = environment.reset() # initialize the state\n",
    "    C = 0.  \n",
    "    \n",
    "    done = False\n",
    "    t = 1\n",
    "    while not done:\n",
    "        t += 1 \n",
    "        step += 1\n",
    "        a = agent.action(x)\n",
    "        u = Actions[a];\n",
    "        \n",
    "        x_next,c, done = environment.step(u,x)\n",
    "         \n",
    "        C += (1./t)*(c-C)\n",
    "        agent.update(x,a,c,x_next,done)\n",
    "        x = x_next\n",
    "         \n",
    "\n",
    "        if done:\n",
    "            break\n",
    "            \n",
    "        if step >= maxSteps:\n",
    "            break\n",
    "            \n",
    "        \n",
    "        R.append(C)\n",
    "        \n",
    "    print('Episode:',ep,'Total Steps:',step,', Ave. Reward/Power :',c,', Episode Length:',t-1)"
   ]
  },
  {
   "cell_type": "markdown",
   "metadata": {},
   "source": [
    "## Plots\n",
    "\n",
    "Let us stop training and use this controller. \n",
    "\n",
    "Also, what is better; the traditional $k \\omega^2 $ law or our RL controller?"
   ]
  },
  {
   "cell_type": "code",
   "execution_count": 5,
   "metadata": {},
   "outputs": [
    {
     "data": {
      "text/plain": [
       "Text(0.5, 1.0, 'GenTorque Control with Uncertain Air Density')"
      ]
     },
     "execution_count": 5,
     "metadata": {},
     "output_type": "execute_result"
    },
    {
     "data": {
      "image/png": "[encoded data removed]",
      "text/plain": [
       "<Figure size 432x288 with 1 Axes>"
      ]
     },
     "metadata": {
      "needs_background": "light"
     },
     "output_type": "display_data"
    }
   ],
   "source": [
    "# Plot the power output of the turbine with trained controller from above\n",
    "\n",
    "Power = []\n",
    "x = np.array([1,1,1,1])\n",
    "for i in range(10000):\n",
    "    a = agent.action(x);\n",
    "    u = Actions[a];\n",
    "    x_next,c,done = environment.step(u,x);\n",
    "    Power.append(c)\n",
    "    x = np.copy(x_next)\n",
    "\n",
    "\n",
    "\n",
    "# Plot the power output of the turbine with traditional control law\n",
    "\n",
    "Kopt = .28;\n",
    "Power_trad = []\n",
    "x_trad = np.array([1,1,1,1])\n",
    "for i in range(10000):\n",
    "    u_trad = Kopt*x[2]**2;\n",
    "    x_next_trad,c_trad,done = environment.step(u_trad,x_trad)\n",
    "    Power_trad.append(c_trad)\n",
    "    x_trad = np.copy(x_next_trad)\n",
    "    \n",
    "\n",
    "line_up, = plt.plot(Power)\n",
    "line_down, = plt.plot(Power_trad)\n",
    "\n",
    "plt.legend([line_down, line_up], ['Traditional Control', 'SARSA with NN'])\n",
    "plt.title('GenTorque Control with Uncertain Air Density');"
   ]
  }
 ],
 "metadata": {
  "kernelspec": {
   "display_name": "Python 3",
   "language": "python",
   "name": "python3"
  },
  "language_info": {
   "codemirror_mode": {
    "name": "ipython",
    "version": 3
   },
   "file_extension": ".py",
   "mimetype": "text/x-python",
   "name": "python",
   "nbconvert_exporter": "python",
   "pygments_lexer": "ipython3",
   "version": "3.7.3"
  }
 },
 "nbformat": 4,
 "nbformat_minor": 2
}
